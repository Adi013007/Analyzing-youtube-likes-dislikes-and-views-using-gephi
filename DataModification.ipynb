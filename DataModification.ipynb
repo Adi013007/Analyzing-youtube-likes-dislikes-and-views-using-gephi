{
 "metadata": {
  "language_info": {
   "codemirror_mode": {
    "name": "ipython",
    "version": 3
   },
   "file_extension": ".py",
   "mimetype": "text/x-python",
   "name": "python",
   "nbconvert_exporter": "python",
   "pygments_lexer": "ipython3",
   "version": "3.9.4"
  },
  "orig_nbformat": 2,
  "kernelspec": {
   "name": "python394jvsc74a57bd020eddb88e84b890ceadbab4b6643a521e9e86e5ffa60a4c079065db218a25de9",
   "display_name": "Python 3.9.4 64-bit"
  }
 },
 "nbformat": 4,
 "nbformat_minor": 2,
 "cells": [
  {
   "cell_type": "code",
   "execution_count": 1,
   "metadata": {},
   "outputs": [],
   "source": [
    "import pandas as p"
   ]
  },
  {
   "cell_type": "code",
   "execution_count": 2,
   "metadata": {},
   "outputs": [],
   "source": [
    "inlikes = p.read_csv(\"INVideosLikes.csv\")\n",
    "indislikes = p.read_csv(\"INVideosDislikes.csv\")\n",
    "inviews = p.read_csv(\"INVideosViews.csv\")"
   ]
  },
  {
   "cell_type": "code",
   "execution_count": 3,
   "metadata": {},
   "outputs": [
    {
     "output_type": "execute_result",
     "data": {
      "text/plain": [
       "         Unnamed: 0  Unnamed: 0.1  Unnamed: 0.1.1  Unnamed: 0.1.1.1  \\\n",
       "count  35798.000000  35798.000000    35798.000000      35798.000000   \n",
       "mean   17898.500000  17898.500000    17898.500000      17898.500000   \n",
       "std    10334.136805  10334.136805    10334.136805      10334.136805   \n",
       "min        0.000000      0.000000        0.000000          0.000000   \n",
       "25%     8949.250000   8949.250000     8949.250000       8949.250000   \n",
       "50%    17898.500000  17898.500000    17898.500000      17898.500000   \n",
       "75%    26847.750000  26847.750000    26847.750000      26847.750000   \n",
       "max    35797.000000  35797.000000    35797.000000      35797.000000   \n",
       "\n",
       "       Unnamed: 0.1.1.1.1      Category  \n",
       "count        35798.000000  35798.000000  \n",
       "mean         18320.733728     21.517683  \n",
       "std          10578.305747      6.596569  \n",
       "min              0.000000      1.000000  \n",
       "25%           9136.250000     23.000000  \n",
       "50%          18322.500000     24.000000  \n",
       "75%          27523.750000     24.000000  \n",
       "max          36570.000000     43.000000  "
      ],
      "text/html": "<div>\n<style scoped>\n    .dataframe tbody tr th:only-of-type {\n        vertical-align: middle;\n    }\n\n    .dataframe tbody tr th {\n        vertical-align: top;\n    }\n\n    .dataframe thead th {\n        text-align: right;\n    }\n</style>\n<table border=\"1\" class=\"dataframe\">\n  <thead>\n    <tr style=\"text-align: right;\">\n      <th></th>\n      <th>Unnamed: 0</th>\n      <th>Unnamed: 0.1</th>\n      <th>Unnamed: 0.1.1</th>\n      <th>Unnamed: 0.1.1.1</th>\n      <th>Unnamed: 0.1.1.1.1</th>\n      <th>Category</th>\n    </tr>\n  </thead>\n  <tbody>\n    <tr>\n      <th>count</th>\n      <td>35798.000000</td>\n      <td>35798.000000</td>\n      <td>35798.000000</td>\n      <td>35798.000000</td>\n      <td>35798.000000</td>\n      <td>35798.000000</td>\n    </tr>\n    <tr>\n      <th>mean</th>\n      <td>17898.500000</td>\n      <td>17898.500000</td>\n      <td>17898.500000</td>\n      <td>17898.500000</td>\n      <td>18320.733728</td>\n      <td>21.517683</td>\n    </tr>\n    <tr>\n      <th>std</th>\n      <td>10334.136805</td>\n      <td>10334.136805</td>\n      <td>10334.136805</td>\n      <td>10334.136805</td>\n      <td>10578.305747</td>\n      <td>6.596569</td>\n    </tr>\n    <tr>\n      <th>min</th>\n      <td>0.000000</td>\n      <td>0.000000</td>\n      <td>0.000000</td>\n      <td>0.000000</td>\n      <td>0.000000</td>\n      <td>1.000000</td>\n    </tr>\n    <tr>\n      <th>25%</th>\n      <td>8949.250000</td>\n      <td>8949.250000</td>\n      <td>8949.250000</td>\n      <td>8949.250000</td>\n      <td>9136.250000</td>\n      <td>23.000000</td>\n    </tr>\n    <tr>\n      <th>50%</th>\n      <td>17898.500000</td>\n      <td>17898.500000</td>\n      <td>17898.500000</td>\n      <td>17898.500000</td>\n      <td>18322.500000</td>\n      <td>24.000000</td>\n    </tr>\n    <tr>\n      <th>75%</th>\n      <td>26847.750000</td>\n      <td>26847.750000</td>\n      <td>26847.750000</td>\n      <td>26847.750000</td>\n      <td>27523.750000</td>\n      <td>24.000000</td>\n    </tr>\n    <tr>\n      <th>max</th>\n      <td>35797.000000</td>\n      <td>35797.000000</td>\n      <td>35797.000000</td>\n      <td>35797.000000</td>\n      <td>36570.000000</td>\n      <td>43.000000</td>\n    </tr>\n  </tbody>\n</table>\n</div>"
     },
     "metadata": {},
     "execution_count": 3
    }
   ],
   "source": [
    "inlikes.describe()"
   ]
  },
  {
   "cell_type": "code",
   "execution_count": null,
   "metadata": {},
   "outputs": [],
   "source": []
  },
  {
   "cell_type": "code",
   "execution_count": 4,
   "metadata": {},
   "outputs": [],
   "source": [
    "def statmod(likes):\n",
    "    if(likes>0 and likes<=900):\n",
    "        return \"low\"\n",
    "    if(likes>900 and likes<=3100):\n",
    "        return \"ok\"\n",
    "    if(likes>3100 and likes<=14000):\n",
    "        return \"decent\"\n",
    "    if(likes>14000):\n",
    "        return \"high\""
   ]
  },
  {
   "cell_type": "code",
   "execution_count": 5,
   "metadata": {},
   "outputs": [],
   "source": [
    "inlikes.dropna(inplace=True)\n",
    "indislikes.dropna(inplace=True)\n",
    "inviews.dropna(inplace=True)"
   ]
  },
  {
   "cell_type": "code",
   "execution_count": null,
   "metadata": {},
   "outputs": [],
   "source": [
    "inlikes[\"Likes\"] = inlikes[\"Likes\"].map(statmod)\n",
    "indislikes[\"Dislikes\"] = indislikes[\"Dislikes\"].map(statmod)\n",
    "inviews[\"Views\"] = inviews[\"Views\"].map(statmod)"
   ]
  },
  {
   "cell_type": "code",
   "execution_count": 6,
   "metadata": {},
   "outputs": [],
   "source": [
    "inlikes.to_csv(\"INVideosLikes.csv\")\n",
    "indislikes.to_csv(\"INVideosDislikes.csv\")\n",
    "inviews.to_csv(\"INVideosViews.csv\")"
   ]
  },
  {
   "cell_type": "code",
   "execution_count": 7,
   "metadata": {},
   "outputs": [],
   "source": [
    "cadislikes = p.read_csv(\"CAVideosDislikes.csv\")\n",
    "calikes = p.read_csv(\"CAVideosLikes.csv\")\n",
    "caviews = p.read_csv(\"CAVideosViews.csv\")"
   ]
  },
  {
   "cell_type": "code",
   "execution_count": 8,
   "metadata": {},
   "outputs": [
    {
     "output_type": "execute_result",
     "data": {
      "text/plain": [
       "         Unnamed: 0   category_id\n",
       "count  40881.000000  40881.000000\n",
       "mean   20440.000000     20.795553\n",
       "std    11801.472514      6.775054\n",
       "min        0.000000      1.000000\n",
       "25%    10220.000000     20.000000\n",
       "50%    20440.000000     24.000000\n",
       "75%    30660.000000     24.000000\n",
       "max    40880.000000     43.000000"
      ],
      "text/html": "<div>\n<style scoped>\n    .dataframe tbody tr th:only-of-type {\n        vertical-align: middle;\n    }\n\n    .dataframe tbody tr th {\n        vertical-align: top;\n    }\n\n    .dataframe thead th {\n        text-align: right;\n    }\n</style>\n<table border=\"1\" class=\"dataframe\">\n  <thead>\n    <tr style=\"text-align: right;\">\n      <th></th>\n      <th>Unnamed: 0</th>\n      <th>category_id</th>\n    </tr>\n  </thead>\n  <tbody>\n    <tr>\n      <th>count</th>\n      <td>40881.000000</td>\n      <td>40881.000000</td>\n    </tr>\n    <tr>\n      <th>mean</th>\n      <td>20440.000000</td>\n      <td>20.795553</td>\n    </tr>\n    <tr>\n      <th>std</th>\n      <td>11801.472514</td>\n      <td>6.775054</td>\n    </tr>\n    <tr>\n      <th>min</th>\n      <td>0.000000</td>\n      <td>1.000000</td>\n    </tr>\n    <tr>\n      <th>25%</th>\n      <td>10220.000000</td>\n      <td>20.000000</td>\n    </tr>\n    <tr>\n      <th>50%</th>\n      <td>20440.000000</td>\n      <td>24.000000</td>\n    </tr>\n    <tr>\n      <th>75%</th>\n      <td>30660.000000</td>\n      <td>24.000000</td>\n    </tr>\n    <tr>\n      <th>max</th>\n      <td>40880.000000</td>\n      <td>43.000000</td>\n    </tr>\n  </tbody>\n</table>\n</div>"
     },
     "metadata": {},
     "execution_count": 8
    }
   ],
   "source": [
    "caviews.describe()"
   ]
  },
  {
   "cell_type": "code",
   "execution_count": 9,
   "metadata": {},
   "outputs": [],
   "source": [
    "def statmod1(likes):\n",
    "    if(likes>0 and likes<=150000):\n",
    "        return \"low\"\n",
    "    if(likes>150000 and likes<=400000):\n",
    "        return \"ok\"\n",
    "    if(likes>400000 and likes<=1000000):\n",
    "        return \"decent\"\n",
    "    if(likes>1000000):\n",
    "        return \"high\"\n"
   ]
  },
  {
   "cell_type": "code",
   "execution_count": 11,
   "metadata": {},
   "outputs": [],
   "source": [
    "caviews.dropna(inplace=True)\n",
    "cadislikes.dropna(inplace=True)\n",
    "calikes.dropna(inplace=True)"
   ]
  },
  {
   "cell_type": "code",
   "execution_count": null,
   "metadata": {},
   "outputs": [],
   "source": [
    "cadislikes[\"Dislikes\"] = cadislikes[\"Dislikes\"].map(statmod1)\n",
    "calikes[\"Likes\"] = calikes[\"Likes\"].map(statmod1)\n",
    "caviews[\"views\"] = caviews[\"views\"].map(statmod1)"
   ]
  },
  {
   "cell_type": "code",
   "execution_count": 12,
   "metadata": {},
   "outputs": [],
   "source": [
    "caviews.to_csv(\"CAVideosViews.csv\")\n",
    "cadislikes.to_csv(\"CAVideosDislikes.csv\")\n",
    "calikes.to_csv(\"CAVideosLikes.csv\")"
   ]
  },
  {
   "cell_type": "code",
   "execution_count": 13,
   "metadata": {},
   "outputs": [],
   "source": [
    "deviews = p.read_csv(\"DEVideosViews.csv\")\n",
    "delikes = p.read_csv(\"DEVideosLikes.csv\")\n",
    "dedislikes = p.read_csv(\"DEVideosDislikes.csv\")"
   ]
  },
  {
   "cell_type": "code",
   "execution_count": 14,
   "metadata": {},
   "outputs": [
    {
     "output_type": "execute_result",
     "data": {
      "text/plain": [
       "         Unnamed: 0   category_id\n",
       "count  30551.000000  30551.000000\n",
       "mean   20281.796373     20.773559\n",
       "std    11682.105000      6.975509\n",
       "min        1.000000      1.000000\n",
       "25%    10263.500000     20.000000\n",
       "50%    20258.000000     24.000000\n",
       "75%    30316.500000     24.000000\n",
       "max    40838.000000     44.000000"
      ],
      "text/html": "<div>\n<style scoped>\n    .dataframe tbody tr th:only-of-type {\n        vertical-align: middle;\n    }\n\n    .dataframe tbody tr th {\n        vertical-align: top;\n    }\n\n    .dataframe thead th {\n        text-align: right;\n    }\n</style>\n<table border=\"1\" class=\"dataframe\">\n  <thead>\n    <tr style=\"text-align: right;\">\n      <th></th>\n      <th>Unnamed: 0</th>\n      <th>category_id</th>\n    </tr>\n  </thead>\n  <tbody>\n    <tr>\n      <th>count</th>\n      <td>30551.000000</td>\n      <td>30551.000000</td>\n    </tr>\n    <tr>\n      <th>mean</th>\n      <td>20281.796373</td>\n      <td>20.773559</td>\n    </tr>\n    <tr>\n      <th>std</th>\n      <td>11682.105000</td>\n      <td>6.975509</td>\n    </tr>\n    <tr>\n      <th>min</th>\n      <td>1.000000</td>\n      <td>1.000000</td>\n    </tr>\n    <tr>\n      <th>25%</th>\n      <td>10263.500000</td>\n      <td>20.000000</td>\n    </tr>\n    <tr>\n      <th>50%</th>\n      <td>20258.000000</td>\n      <td>24.000000</td>\n    </tr>\n    <tr>\n      <th>75%</th>\n      <td>30316.500000</td>\n      <td>24.000000</td>\n    </tr>\n    <tr>\n      <th>max</th>\n      <td>40838.000000</td>\n      <td>44.000000</td>\n    </tr>\n  </tbody>\n</table>\n</div>"
     },
     "metadata": {},
     "execution_count": 14
    }
   ],
   "source": [
    "deviews.describe()"
   ]
  },
  {
   "cell_type": "code",
   "execution_count": 15,
   "metadata": {},
   "outputs": [],
   "source": [
    "def statmod2(likes):\n",
    "    if(likes>0 and likes<=30000):\n",
    "        return \"low\"\n",
    "    if(likes>30000 and likes<=120000):\n",
    "        return \"ok\"\n",
    "    if(likes>1200000 and likes<=450000):\n",
    "        return \"decent\"\n",
    "    if(likes>450000):\n",
    "        return \"high\""
   ]
  },
  {
   "cell_type": "code",
   "execution_count": null,
   "metadata": {},
   "outputs": [],
   "source": [
    "dedislikes[\"dislikes\"] = dedislikes[\"dislikes\"].map(statmod2)\n",
    "delikes[\"likes\"] = delikes[\"likes\"].map(statmod2)\n"
   ]
  },
  {
   "cell_type": "code",
   "execution_count": 28,
   "metadata": {},
   "outputs": [],
   "source": [
    "deviews[\"views\"] = deviews[\"views\"].map(statmod2)"
   ]
  },
  {
   "cell_type": "code",
   "execution_count": 16,
   "metadata": {},
   "outputs": [],
   "source": [
    "deviews.dropna(inplace=True)\n",
    "dedislikes.dropna(inplace=True)\n",
    "delikes.dropna(inplace=True)"
   ]
  },
  {
   "cell_type": "code",
   "execution_count": 17,
   "metadata": {},
   "outputs": [],
   "source": [
    "deviews.to_csv(\"DEVideosViews.csv\")\n",
    "dedislikes.to_csv(\"DEVideosDislikes.csv\")\n",
    "delikes.to_csv(\"DEVideosLikes.csv\")"
   ]
  },
  {
   "cell_type": "code",
   "execution_count": 18,
   "metadata": {},
   "outputs": [],
   "source": [
    "frlikes = p.read_csv(\"FRVideosLikes.csv\")\n",
    "frviews = p.read_csv(\"FRVideosViews.csv\")\n",
    "frdislikes = p.read_csv(\"FRVideosDislikes.csv\")"
   ]
  },
  {
   "cell_type": "code",
   "execution_count": 19,
   "metadata": {},
   "outputs": [
    {
     "output_type": "execute_result",
     "data": {
      "text/plain": [
       "         Unnamed: 0   category_id\n",
       "count  40009.000000  40009.000000\n",
       "mean   20383.686945     20.122572\n",
       "std    11763.534549      6.979246\n",
       "min        0.000000      1.000000\n",
       "25%    10196.000000     17.000000\n",
       "50%    20375.000000     23.000000\n",
       "75%    30585.000000     24.000000\n",
       "max    40723.000000     44.000000"
      ],
      "text/html": "<div>\n<style scoped>\n    .dataframe tbody tr th:only-of-type {\n        vertical-align: middle;\n    }\n\n    .dataframe tbody tr th {\n        vertical-align: top;\n    }\n\n    .dataframe thead th {\n        text-align: right;\n    }\n</style>\n<table border=\"1\" class=\"dataframe\">\n  <thead>\n    <tr style=\"text-align: right;\">\n      <th></th>\n      <th>Unnamed: 0</th>\n      <th>category_id</th>\n    </tr>\n  </thead>\n  <tbody>\n    <tr>\n      <th>count</th>\n      <td>40009.000000</td>\n      <td>40009.000000</td>\n    </tr>\n    <tr>\n      <th>mean</th>\n      <td>20383.686945</td>\n      <td>20.122572</td>\n    </tr>\n    <tr>\n      <th>std</th>\n      <td>11763.534549</td>\n      <td>6.979246</td>\n    </tr>\n    <tr>\n      <th>min</th>\n      <td>0.000000</td>\n      <td>1.000000</td>\n    </tr>\n    <tr>\n      <th>25%</th>\n      <td>10196.000000</td>\n      <td>17.000000</td>\n    </tr>\n    <tr>\n      <th>50%</th>\n      <td>20375.000000</td>\n      <td>23.000000</td>\n    </tr>\n    <tr>\n      <th>75%</th>\n      <td>30585.000000</td>\n      <td>24.000000</td>\n    </tr>\n    <tr>\n      <th>max</th>\n      <td>40723.000000</td>\n      <td>44.000000</td>\n    </tr>\n  </tbody>\n</table>\n</div>"
     },
     "metadata": {},
     "execution_count": 19
    }
   ],
   "source": [
    "frlikes.describe()"
   ]
  },
  {
   "cell_type": "code",
   "execution_count": 20,
   "metadata": {},
   "outputs": [],
   "source": [
    "def statmod3(likes):\n",
    "    if(likes>0 and likes<=400):\n",
    "        return \"low\"\n",
    "    if(likes>400 and likes<=2000):\n",
    "        return \"ok\"\n",
    "    if(likes>2000 and likes<=8000):\n",
    "        return \"decent\"\n",
    "    if(likes>8000):\n",
    "        return \"high\""
   ]
  },
  {
   "cell_type": "code",
   "execution_count": 22,
   "metadata": {},
   "outputs": [],
   "source": [
    "frviews.dropna(inplace=True)\n",
    "frlikes.dropna(inplace=True)\n",
    "frdislikes.dropna(inplace=True)\n"
   ]
  },
  {
   "cell_type": "code",
   "execution_count": null,
   "metadata": {},
   "outputs": [],
   "source": [
    "frdislikes[\"dislikes\"] = frdislikes[\"dislikes\"].map(statmod3)\n",
    "frlikes[\"likes\"] = frlikes[\"likes\"].map(statmod3)\n",
    "frviews[\"views\"] = frviews[\"views\"].map(statmod3)"
   ]
  },
  {
   "cell_type": "code",
   "execution_count": 23,
   "metadata": {},
   "outputs": [],
   "source": [
    "frviews.to_csv(\"FRVideosViews.csv\")\n",
    "frdislikes.to_csv(\"FRVideosDislikes.csv\")\n",
    "frlikes.to_csv(\"FRVideosLikes.csv\")"
   ]
  },
  {
   "cell_type": "code",
   "execution_count": 24,
   "metadata": {},
   "outputs": [],
   "source": [
    "gblikes = p.read_csv(\"GBVideosLikes.csv\")\n",
    "gbviews = p.read_csv(\"GBVideosViews.csv\")\n",
    "gbdislikes  = p.read_csv(\"GBVideosDislikes.csv\")"
   ]
  },
  {
   "cell_type": "code",
   "execution_count": 25,
   "metadata": {},
   "outputs": [
    {
     "output_type": "execute_result",
     "data": {
      "text/plain": [
       "         Unnamed: 0   category_id\n",
       "count  38644.000000  38644.000000\n",
       "mean   19466.304730     16.864610\n",
       "std    11238.831822      7.719096\n",
       "min        0.000000      1.000000\n",
       "25%     9741.750000     10.000000\n",
       "50%    19453.500000     20.000000\n",
       "75%    29209.250000     24.000000\n",
       "max    38915.000000     43.000000"
      ],
      "text/html": "<div>\n<style scoped>\n    .dataframe tbody tr th:only-of-type {\n        vertical-align: middle;\n    }\n\n    .dataframe tbody tr th {\n        vertical-align: top;\n    }\n\n    .dataframe thead th {\n        text-align: right;\n    }\n</style>\n<table border=\"1\" class=\"dataframe\">\n  <thead>\n    <tr style=\"text-align: right;\">\n      <th></th>\n      <th>Unnamed: 0</th>\n      <th>category_id</th>\n    </tr>\n  </thead>\n  <tbody>\n    <tr>\n      <th>count</th>\n      <td>38644.000000</td>\n      <td>38644.000000</td>\n    </tr>\n    <tr>\n      <th>mean</th>\n      <td>19466.304730</td>\n      <td>16.864610</td>\n    </tr>\n    <tr>\n      <th>std</th>\n      <td>11238.831822</td>\n      <td>7.719096</td>\n    </tr>\n    <tr>\n      <th>min</th>\n      <td>0.000000</td>\n      <td>1.000000</td>\n    </tr>\n    <tr>\n      <th>25%</th>\n      <td>9741.750000</td>\n      <td>10.000000</td>\n    </tr>\n    <tr>\n      <th>50%</th>\n      <td>19453.500000</td>\n      <td>20.000000</td>\n    </tr>\n    <tr>\n      <th>75%</th>\n      <td>29209.250000</td>\n      <td>24.000000</td>\n    </tr>\n    <tr>\n      <th>max</th>\n      <td>38915.000000</td>\n      <td>43.000000</td>\n    </tr>\n  </tbody>\n</table>\n</div>"
     },
     "metadata": {},
     "execution_count": 25
    }
   ],
   "source": [
    "gblikes.describe()"
   ]
  },
  {
   "cell_type": "code",
   "execution_count": 26,
   "metadata": {},
   "outputs": [],
   "source": [
    "def statmod4(likes):\n",
    "    if(likes>0 and likes<=6000):\n",
    "        return \"low\"\n",
    "    if(likes>6000 and likes<=30000):\n",
    "        return \"ok\"\n",
    "    if(likes>30000 and likes<=150000):\n",
    "        return \"decent\"\n",
    "    if(likes>150000):\n",
    "        return \"high\"\n"
   ]
  },
  {
   "cell_type": "code",
   "execution_count": 44,
   "metadata": {},
   "outputs": [],
   "source": [
    "gblikes[\"likes\"] = gblikes[\"likes\"].map(statmod4)\n",
    "gbviews[\"views\"] = gbviews[\"views\"].map(statmod4)\n",
    "gbdislikes[\"dislikes\"] = gbdislikes[\"dislikes\"].map(statmod4)"
   ]
  },
  {
   "cell_type": "code",
   "execution_count": 27,
   "metadata": {},
   "outputs": [],
   "source": [
    "gbdislikes.dropna(inplace=True)\n",
    "gblikes.dropna(inplace=True)\n",
    "gbviews.dropna(inplace=True)"
   ]
  },
  {
   "cell_type": "code",
   "execution_count": 28,
   "metadata": {},
   "outputs": [],
   "source": [
    "gbviews.to_csv(\"GBVideosViews.csv\")\n",
    "gbdislikes.to_csv(\"GBVideosDislikes.csv\")\n",
    "gblikes.to_csv(\"GBVideosLikes.csv\")"
   ]
  },
  {
   "cell_type": "code",
   "execution_count": 30,
   "metadata": {},
   "outputs": [],
   "source": [
    "jplikes = p.read_csv(\"JPVideosLikes.csv\")\n",
    "jpdislikes = p.read_csv(\"JPVideosDislikes.csv\")\n",
    "jpviews = p.read_csv(\"JPVideosViews.csv\")"
   ]
  },
  {
   "cell_type": "code",
   "execution_count": 31,
   "metadata": {},
   "outputs": [
    {
     "output_type": "execute_result",
     "data": {
      "text/plain": [
       "           Category       Dislikes\n",
       "count  20523.000000   20523.000000\n",
       "mean      19.807533     366.823613\n",
       "std        6.655895    2658.598540\n",
       "min        1.000000       0.000000\n",
       "25%       17.000000       9.000000\n",
       "50%       22.000000      43.000000\n",
       "75%       24.000000     178.000000\n",
       "max       29.000000  119053.000000"
      ],
      "text/html": "<div>\n<style scoped>\n    .dataframe tbody tr th:only-of-type {\n        vertical-align: middle;\n    }\n\n    .dataframe tbody tr th {\n        vertical-align: top;\n    }\n\n    .dataframe thead th {\n        text-align: right;\n    }\n</style>\n<table border=\"1\" class=\"dataframe\">\n  <thead>\n    <tr style=\"text-align: right;\">\n      <th></th>\n      <th>Category</th>\n      <th>Dislikes</th>\n    </tr>\n  </thead>\n  <tbody>\n    <tr>\n      <th>count</th>\n      <td>20523.000000</td>\n      <td>20523.000000</td>\n    </tr>\n    <tr>\n      <th>mean</th>\n      <td>19.807533</td>\n      <td>366.823613</td>\n    </tr>\n    <tr>\n      <th>std</th>\n      <td>6.655895</td>\n      <td>2658.598540</td>\n    </tr>\n    <tr>\n      <th>min</th>\n      <td>1.000000</td>\n      <td>0.000000</td>\n    </tr>\n    <tr>\n      <th>25%</th>\n      <td>17.000000</td>\n      <td>9.000000</td>\n    </tr>\n    <tr>\n      <th>50%</th>\n      <td>22.000000</td>\n      <td>43.000000</td>\n    </tr>\n    <tr>\n      <th>75%</th>\n      <td>24.000000</td>\n      <td>178.000000</td>\n    </tr>\n    <tr>\n      <th>max</th>\n      <td>29.000000</td>\n      <td>119053.000000</td>\n    </tr>\n  </tbody>\n</table>\n</div>"
     },
     "metadata": {},
     "execution_count": 31
    }
   ],
   "source": [
    "jpdislikes.describe()"
   ]
  },
  {
   "cell_type": "code",
   "execution_count": 32,
   "metadata": {},
   "outputs": [],
   "source": [
    "def statmod5(likes):\n",
    "    if(likes>0 and likes<=15):\n",
    "        return \"low\"\n",
    "    if(likes>15 and likes<=50):\n",
    "        return \"ok\"\n",
    "    if(likes>50 and likes<=200):\n",
    "        return \"decent\"\n",
    "    if(likes>200):\n",
    "        return \"high\""
   ]
  },
  {
   "cell_type": "code",
   "execution_count": 33,
   "metadata": {},
   "outputs": [],
   "source": [
    "jpdislikes[\"Dislikes\"] = jpdislikes[\"Dislikes\"].map(statmod5)\n",
    "jplikes[\"Likes\"] = jplikes[\"Likes\"].map(statmod5)\n",
    "jpviews[\"Views\"] = jpviews[\"Views\"].map(statmod5)"
   ]
  },
  {
   "cell_type": "code",
   "execution_count": 34,
   "metadata": {},
   "outputs": [],
   "source": [
    "jpviews.dropna(inplace=True)\n",
    "jplikes.dropna(inplace=True)\n",
    "jpdislikes.dropna(inplace=True)"
   ]
  },
  {
   "cell_type": "code",
   "execution_count": 35,
   "metadata": {},
   "outputs": [],
   "source": [
    "jpviews.to_csv(\"JPVideosViews.csv\")\n",
    "jplikes.to_csv(\"JPVideosLikes.csv\")\n",
    "jpdislikes.to_csv(\"JPVideosDislikes.csv\")"
   ]
  },
  {
   "cell_type": "code",
   "execution_count": 36,
   "metadata": {},
   "outputs": [],
   "source": [
    "krlikes = p.read_csv(\"KRVideosLikes.csv\")\n",
    "krdislikes = p.read_csv(\"KRVideosDislikes.csv\")\n",
    "krviews = p.read_csv(\"KRVideosViews.csv\")\n"
   ]
  },
  {
   "cell_type": "code",
   "execution_count": 37,
   "metadata": {},
   "outputs": [
    {
     "output_type": "execute_result",
     "data": {
      "text/plain": [
       "        category_id         likes\n",
       "count  34567.000000  3.456700e+04\n",
       "mean      21.137675  1.218642e+04\n",
       "std        6.675455  1.170531e+05\n",
       "min        1.000000  0.000000e+00\n",
       "25%       22.000000  4.120000e+02\n",
       "50%       24.000000  1.389000e+03\n",
       "75%       25.000000  3.704500e+03\n",
       "max       44.000000  5.150839e+06"
      ],
      "text/html": "<div>\n<style scoped>\n    .dataframe tbody tr th:only-of-type {\n        vertical-align: middle;\n    }\n\n    .dataframe tbody tr th {\n        vertical-align: top;\n    }\n\n    .dataframe thead th {\n        text-align: right;\n    }\n</style>\n<table border=\"1\" class=\"dataframe\">\n  <thead>\n    <tr style=\"text-align: right;\">\n      <th></th>\n      <th>category_id</th>\n      <th>likes</th>\n    </tr>\n  </thead>\n  <tbody>\n    <tr>\n      <th>count</th>\n      <td>34567.000000</td>\n      <td>3.456700e+04</td>\n    </tr>\n    <tr>\n      <th>mean</th>\n      <td>21.137675</td>\n      <td>1.218642e+04</td>\n    </tr>\n    <tr>\n      <th>std</th>\n      <td>6.675455</td>\n      <td>1.170531e+05</td>\n    </tr>\n    <tr>\n      <th>min</th>\n      <td>1.000000</td>\n      <td>0.000000e+00</td>\n    </tr>\n    <tr>\n      <th>25%</th>\n      <td>22.000000</td>\n      <td>4.120000e+02</td>\n    </tr>\n    <tr>\n      <th>50%</th>\n      <td>24.000000</td>\n      <td>1.389000e+03</td>\n    </tr>\n    <tr>\n      <th>75%</th>\n      <td>25.000000</td>\n      <td>3.704500e+03</td>\n    </tr>\n    <tr>\n      <th>max</th>\n      <td>44.000000</td>\n      <td>5.150839e+06</td>\n    </tr>\n  </tbody>\n</table>\n</div>"
     },
     "metadata": {},
     "execution_count": 37
    }
   ],
   "source": [
    "krlikes.describe()"
   ]
  },
  {
   "cell_type": "code",
   "execution_count": 38,
   "metadata": {},
   "outputs": [],
   "source": [
    "def statmod6(likes):\n",
    "    if(likes>0 and likes<=500):\n",
    "        return \"low\"\n",
    "    if(likes>500 and likes<=1500):\n",
    "        return \"ok\"\n",
    "    if(likes>1500 and likes<=4000):\n",
    "        return \"decent\"\n",
    "    if(likes>4000):\n",
    "        return \"high\""
   ]
  },
  {
   "cell_type": "code",
   "execution_count": 39,
   "metadata": {},
   "outputs": [],
   "source": [
    "krlikes[\"likes\"] = krlikes[\"likes\"].map(statmod6)\n",
    "krdislikes[\"dislikes\"] = krdislikes[\"dislikes\"].map(statmod6)\n",
    "krviews[\"views\"] = krviews[\"views\"].map(statmod6)"
   ]
  },
  {
   "cell_type": "code",
   "execution_count": 40,
   "metadata": {},
   "outputs": [],
   "source": [
    "krlikes.dropna(inplace=True)\n",
    "krviews.dropna(inplace=True)\n",
    "krdislikes.dropna(inplace=True)"
   ]
  },
  {
   "cell_type": "code",
   "execution_count": 41,
   "metadata": {},
   "outputs": [],
   "source": [
    "krlikes.to_csv(\"KRVideosLikes.csv\")\n",
    "krviews.to_csv(\"KRVideosViews.csv\")\n",
    "krdislikes.to_csv(\"KRVideosDislikes.csv\")"
   ]
  },
  {
   "cell_type": "code",
   "execution_count": 42,
   "metadata": {},
   "outputs": [],
   "source": [
    "rulikes = p.read_csv(\"RUVideosLikes.csv\")\n",
    "ruviews = p.read_csv(\"RUVideosViews.csv\")\n",
    "rudislikes = p.read_csv(\"RUVideosDislikes.csv\")"
   ]
  },
  {
   "cell_type": "code",
   "execution_count": 43,
   "metadata": {},
   "outputs": [
    {
     "output_type": "execute_result",
     "data": {
      "text/plain": [
       "        category_id         likes\n",
       "count  40739.000000  4.073900e+04\n",
       "mean      20.261936  1.243522e+04\n",
       "std        7.890955  6.038280e+04\n",
       "min        1.000000  0.000000e+00\n",
       "25%       20.000000  4.025000e+02\n",
       "50%       22.000000  1.880000e+03\n",
       "75%       25.000000  7.791000e+03\n",
       "max       43.000000  4.470923e+06"
      ],
      "text/html": "<div>\n<style scoped>\n    .dataframe tbody tr th:only-of-type {\n        vertical-align: middle;\n    }\n\n    .dataframe tbody tr th {\n        vertical-align: top;\n    }\n\n    .dataframe thead th {\n        text-align: right;\n    }\n</style>\n<table border=\"1\" class=\"dataframe\">\n  <thead>\n    <tr style=\"text-align: right;\">\n      <th></th>\n      <th>category_id</th>\n      <th>likes</th>\n    </tr>\n  </thead>\n  <tbody>\n    <tr>\n      <th>count</th>\n      <td>40739.000000</td>\n      <td>4.073900e+04</td>\n    </tr>\n    <tr>\n      <th>mean</th>\n      <td>20.261936</td>\n      <td>1.243522e+04</td>\n    </tr>\n    <tr>\n      <th>std</th>\n      <td>7.890955</td>\n      <td>6.038280e+04</td>\n    </tr>\n    <tr>\n      <th>min</th>\n      <td>1.000000</td>\n      <td>0.000000e+00</td>\n    </tr>\n    <tr>\n      <th>25%</th>\n      <td>20.000000</td>\n      <td>4.025000e+02</td>\n    </tr>\n    <tr>\n      <th>50%</th>\n      <td>22.000000</td>\n      <td>1.880000e+03</td>\n    </tr>\n    <tr>\n      <th>75%</th>\n      <td>25.000000</td>\n      <td>7.791000e+03</td>\n    </tr>\n    <tr>\n      <th>max</th>\n      <td>43.000000</td>\n      <td>4.470923e+06</td>\n    </tr>\n  </tbody>\n</table>\n</div>"
     },
     "metadata": {},
     "execution_count": 43
    }
   ],
   "source": [
    "rulikes.describe()"
   ]
  },
  {
   "cell_type": "code",
   "execution_count": 44,
   "metadata": {},
   "outputs": [],
   "source": [
    " def statmod7(likes):\n",
    "     if(likes>0 and likes<=500):\n",
    "         return \"low\"\n",
    "     if(likes>500 and likes<=2000):\n",
    "         return \"ok\"\n",
    "     if(likes>2000 and likes<=8000):\n",
    "         return \"decent\"\n",
    "     if(likes>8000):\n",
    "         return \"high\""
   ]
  },
  {
   "cell_type": "code",
   "execution_count": 45,
   "metadata": {},
   "outputs": [],
   "source": [
    "rulikes[\"likes\"] = rulikes[\"likes\"].map(statmod7)\n",
    "rudislikes[\"dislikes\"] = rudislikes[\"dislikes\"].map(statmod7)\n",
    "ruviews[\"views\"] = ruviews[\"views\"].map(statmod7)"
   ]
  },
  {
   "cell_type": "code",
   "execution_count": 46,
   "metadata": {},
   "outputs": [],
   "source": [
    "rulikes.dropna(inplace=True)\n",
    "ruviews.dropna(inplace=True)\n",
    "rudislikes.dropna(inplace=True)"
   ]
  },
  {
   "cell_type": "code",
   "execution_count": 47,
   "metadata": {},
   "outputs": [],
   "source": [
    "rudislikes.to_csv(\"RUVideosDislikes.csv\")\n",
    "rulikes.to_csv(\"RUVideosLikes.csv\")\n",
    "ruviews.to_csv(\"RUVideosViews.csv\")"
   ]
  },
  {
   "cell_type": "code",
   "execution_count": 48,
   "metadata": {},
   "outputs": [],
   "source": [
    "mxviews = p.read_csv(\"MXVideosViews.csv\")\n",
    "mxlikes = p.read_csv(\"MXVideosLikes.csv\")\n",
    "mxdislikes = p.read_csv(\"MXVideosDislikes.csv\")"
   ]
  },
  {
   "cell_type": "code",
   "execution_count": 49,
   "metadata": {},
   "outputs": [
    {
     "output_type": "execute_result",
     "data": {
      "text/plain": [
       "        category_id         views\n",
       "count  40451.000000  4.045100e+04\n",
       "mean      21.003140  3.423820e+05\n",
       "std        5.878995  1.714691e+06\n",
       "min        1.000000  1.570000e+02\n",
       "25%       20.000000  1.681300e+04\n",
       "50%       24.000000  5.697300e+04\n",
       "75%       24.000000  2.068940e+05\n",
       "max       43.000000  1.009124e+08"
      ],
      "text/html": "<div>\n<style scoped>\n    .dataframe tbody tr th:only-of-type {\n        vertical-align: middle;\n    }\n\n    .dataframe tbody tr th {\n        vertical-align: top;\n    }\n\n    .dataframe thead th {\n        text-align: right;\n    }\n</style>\n<table border=\"1\" class=\"dataframe\">\n  <thead>\n    <tr style=\"text-align: right;\">\n      <th></th>\n      <th>category_id</th>\n      <th>views</th>\n    </tr>\n  </thead>\n  <tbody>\n    <tr>\n      <th>count</th>\n      <td>40451.000000</td>\n      <td>4.045100e+04</td>\n    </tr>\n    <tr>\n      <th>mean</th>\n      <td>21.003140</td>\n      <td>3.423820e+05</td>\n    </tr>\n    <tr>\n      <th>std</th>\n      <td>5.878995</td>\n      <td>1.714691e+06</td>\n    </tr>\n    <tr>\n      <th>min</th>\n      <td>1.000000</td>\n      <td>1.570000e+02</td>\n    </tr>\n    <tr>\n      <th>25%</th>\n      <td>20.000000</td>\n      <td>1.681300e+04</td>\n    </tr>\n    <tr>\n      <th>50%</th>\n      <td>24.000000</td>\n      <td>5.697300e+04</td>\n    </tr>\n    <tr>\n      <th>75%</th>\n      <td>24.000000</td>\n      <td>2.068940e+05</td>\n    </tr>\n    <tr>\n      <th>max</th>\n      <td>43.000000</td>\n      <td>1.009124e+08</td>\n    </tr>\n  </tbody>\n</table>\n</div>"
     },
     "metadata": {},
     "execution_count": 49
    }
   ],
   "source": [
    "mxviews.describe()"
   ]
  },
  {
   "cell_type": "code",
   "execution_count": 50,
   "metadata": {},
   "outputs": [],
   "source": [
    "def statmod8(likes):\n",
    "    if(likes>0 and likes<=20000):\n",
    "        return \"low\"\n",
    "    if(likes>20000 and likes<=60000):\n",
    "        return \"ok\"\n",
    "    if(likes>60000 and likes<=250000):\n",
    "        return \"decent\"\n",
    "    if(likes>250000):\n",
    "        return \"high\""
   ]
  },
  {
   "cell_type": "code",
   "execution_count": 51,
   "metadata": {},
   "outputs": [],
   "source": [
    "mxlikes[\"likes\"] = mxlikes[\"likes\"].map(statmod8)\n",
    "mxdislikes[\"dislikes\"] = mxdislikes[\"dislikes\"].map(statmod8)\n",
    "mxviews[\"views\"] = mxviews[\"views\"].map(statmod8)"
   ]
  },
  {
   "cell_type": "code",
   "execution_count": 52,
   "metadata": {},
   "outputs": [],
   "source": [
    "mxviews.dropna(inplace=True)\n",
    "mxlikes.dropna(inplace=True)\n",
    "mxdislikes.dropna(inplace=True)"
   ]
  },
  {
   "cell_type": "code",
   "execution_count": 53,
   "metadata": {},
   "outputs": [],
   "source": [
    "mxviews.to_csv(\"MXVideosViews.csv\")\n",
    "mxlikes.to_csv(\"MXVideosLikes.csv\")\n",
    "mxdislikes.to_csv(\"MXVideosDislikes.csv\")"
   ]
  },
  {
   "cell_type": "code",
   "execution_count": 2,
   "metadata": {},
   "outputs": [],
   "source": [
    "usviews = p.read_csv(\"USVideosViews.csv\")\n",
    "uslikes = p.read_csv(\"USVideosLikes.csv\")\n",
    "usdislikes = p.read_csv(\"USVideosDislikes.csv\")"
   ]
  },
  {
   "cell_type": "code",
   "execution_count": 3,
   "metadata": {},
   "outputs": [
    {
     "output_type": "execute_result",
     "data": {
      "text/plain": [
       "           category         views\n",
       "count  40949.000000  4.094900e+04\n",
       "mean      19.972429  2.360785e+06\n",
       "std        7.568327  7.394114e+06\n",
       "min        1.000000  5.490000e+02\n",
       "25%       17.000000  2.423290e+05\n",
       "50%       24.000000  6.818610e+05\n",
       "75%       25.000000  1.823157e+06\n",
       "max       43.000000  2.252119e+08"
      ],
      "text/html": "<div>\n<style scoped>\n    .dataframe tbody tr th:only-of-type {\n        vertical-align: middle;\n    }\n\n    .dataframe tbody tr th {\n        vertical-align: top;\n    }\n\n    .dataframe thead th {\n        text-align: right;\n    }\n</style>\n<table border=\"1\" class=\"dataframe\">\n  <thead>\n    <tr style=\"text-align: right;\">\n      <th></th>\n      <th>category</th>\n      <th>views</th>\n    </tr>\n  </thead>\n  <tbody>\n    <tr>\n      <th>count</th>\n      <td>40949.000000</td>\n      <td>4.094900e+04</td>\n    </tr>\n    <tr>\n      <th>mean</th>\n      <td>19.972429</td>\n      <td>2.360785e+06</td>\n    </tr>\n    <tr>\n      <th>std</th>\n      <td>7.568327</td>\n      <td>7.394114e+06</td>\n    </tr>\n    <tr>\n      <th>min</th>\n      <td>1.000000</td>\n      <td>5.490000e+02</td>\n    </tr>\n    <tr>\n      <th>25%</th>\n      <td>17.000000</td>\n      <td>2.423290e+05</td>\n    </tr>\n    <tr>\n      <th>50%</th>\n      <td>24.000000</td>\n      <td>6.818610e+05</td>\n    </tr>\n    <tr>\n      <th>75%</th>\n      <td>25.000000</td>\n      <td>1.823157e+06</td>\n    </tr>\n    <tr>\n      <th>max</th>\n      <td>43.000000</td>\n      <td>2.252119e+08</td>\n    </tr>\n  </tbody>\n</table>\n</div>"
     },
     "metadata": {},
     "execution_count": 3
    }
   ],
   "source": [
    "usviews.describe()"
   ]
  },
  {
   "cell_type": "code",
   "execution_count": 4,
   "metadata": {},
   "outputs": [],
   "source": [
    "def statmod9(likes):\n",
    "    if(likes>0 and likes<=300000):\n",
    "        return \"low\"\n",
    "    if(likes>300000 and likes<=700000):\n",
    "        return \"ok\"\n",
    "    if(likes>700000 and likes<=2000000):\n",
    "        return \"decent\"\n",
    "    if(likes>2000000):\n",
    "        return \"high\"\n",
    "    "
   ]
  },
  {
   "cell_type": "code",
   "execution_count": 5,
   "metadata": {},
   "outputs": [],
   "source": [
    "usdislikes[\"dislikes\"] = usdislikes[\"dislikes\"].map(statmod9)\n",
    "usviews[\"views\"] = usviews[\"views\"].map(statmod9)\n",
    "uslikes[\"likes\"] = uslikes[\"likes\"].map(statmod9)"
   ]
  },
  {
   "cell_type": "code",
   "execution_count": 5,
   "metadata": {},
   "outputs": [],
   "source": [
    "usdislikes.dropna(inplace=True)\n",
    "uslikes.dropna(inplace=True)\n",
    "usviews.dropna(inplace=True)"
   ]
  },
  {
   "cell_type": "code",
   "execution_count": 8,
   "metadata": {},
   "outputs": [],
   "source": [
    "uslikes.to_csv(\"USVideosLikes.csv\")\n",
    "usviews.to_csv(\"USViews.csv\")\n",
    "usdislikes.to_csv(\"USVideosDislikes.csv\")"
   ]
  },
  {
   "cell_type": "code",
   "execution_count": null,
   "metadata": {},
   "outputs": [],
   "source": []
  }
 ]
}